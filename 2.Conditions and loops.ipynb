{
 "cells": [
  {
   "cell_type": "code",
   "execution_count": 14,
   "metadata": {},
   "outputs": [],
   "source": [
    "# Topics covered\n",
    "# Conditional statements(if, else, elif) and loops(for, while) and control statements \n",
    "# Exception handling"
   ]
  },
  {
   "cell_type": "code",
   "execution_count": 2,
   "metadata": {},
   "outputs": [
    {
     "name": "stdout",
     "output_type": "stream",
     "text": [
      "1. a is less than b\n",
      "2. a is greater than b\n"
     ]
    }
   ],
   "source": [
    "# Conditional statements\n",
    "# The infamous if statement\n",
    "\n",
    "a= 2\n",
    "b= 3\n",
    "\n",
    "if(a<b):\n",
    "    print(\"1. a is less than b\")\n",
    "    \n",
    "    \n",
    "\n",
    "# but what if a was greater than b\n",
    "\n",
    "a= 3\n",
    "b =2\n",
    "\n",
    "if(a<b):\n",
    "    print(\"a is less than b\")# this statement doesn't get executed, so what do we do\n",
    "\n",
    "    \n",
    "# We use the infamous else statement\n",
    "\n",
    "if(a<b):\n",
    "    print(\"2. a is less than b\")# this statement doesn't get executed, so what do we do\n",
    "else:\n",
    "    print(\"2. a is greater than b\")# this statement gets executed if the statement in if clause is false\n",
    "    \n",
    "\n",
    "# Python is really a stickler about alignment, check out the print statements and if-else above"
   ]
  },
  {
   "cell_type": "code",
   "execution_count": 3,
   "metadata": {},
   "outputs": [
    {
     "name": "stdout",
     "output_type": "stream",
     "text": [
      "greatr than 50\n"
     ]
    }
   ],
   "source": [
    "# the elif conditional statement or the nested ifs- use if you have ranges and multiple conditions\n",
    "\n",
    "age = 50\n",
    "\n",
    "if (age<30): \n",
    "    print(\"under30\")\n",
    "elif(age<50):\n",
    "    print(\"30-50\")\n",
    "else:\n",
    "    print(\"greatr than 50\")\n",
    "\n",
    "    \n",
    "# Only one conditional statement from the entire block will be true, and soon as it hits that correct condition\n",
    "# it will not check further conditions\n"
   ]
  },
  {
   "cell_type": "code",
   "execution_count": 4,
   "metadata": {},
   "outputs": [
    {
     "name": "stdout",
     "output_type": "stream",
     "text": [
      "2\n",
      "3\n",
      "4\n",
      "\n",
      "Printing elements in list\n",
      "apples\n",
      "strawberry\n",
      "banana\n",
      "\n",
      "Printing elements in tuple\n",
      "1\n",
      "2\n",
      "3\n",
      "2\n",
      "56\n",
      "7\n",
      "\n",
      "Demo of skip in range\n",
      "0\n",
      "2\n",
      "4\n",
      "6\n",
      "8\n",
      "10\n",
      "12\n",
      "\n",
      "Top 10 multiples of 5\n",
      "0\n",
      "5\n",
      "10\n",
      "15\n",
      "20\n",
      "25\n",
      "30\n",
      "35\n",
      "40\n",
      "45\n",
      "50\n",
      "\n",
      "Nested loop demo\n",
      "1 1\n",
      "1 2\n",
      "2 1\n",
      "2 2\n"
     ]
    }
   ],
   "source": [
    "# For loops\n",
    "\n",
    "# basic\n",
    "\n",
    "for i in (range(2,5)): # goes to one less index\n",
    "    print(i)\n",
    "    \n",
    "    \n",
    "# Iterating over data structures\n",
    "\n",
    "lis = [\"apples\", \"strawberry\", \"banana\"]\n",
    "tup = [1,2,3,2,56,7]\n",
    "\n",
    "print(\"\\nPrinting elements in list\")  \n",
    "for i in lis:\n",
    "    print(i)\n",
    "\n",
    "    \n",
    "print(\"\\nPrinting elements in tuple\")    \n",
    "for i in tup:\n",
    "    print(i)\n",
    "    \n",
    "    \n",
    "# the skip function in range\n",
    "print(\"\\nDemo of skip in range\")  \n",
    "for i in (range(0,13, 2)): # the third element in range function is the increment factor\n",
    "    print(i)\n",
    "\n",
    "       \n",
    "# Printing top 10 multiples of 5\n",
    "print(\"\\nTop 10 multiples of 5\")  \n",
    "for i in (range(0,51, 5)): \n",
    "    print(i)\n",
    "    \n",
    "    \n",
    "# Nested for loops: for every iteration of i, the outer loop the inner loop will be executed j times\n",
    "print(\"\\nNested loop demo\")  \n",
    "for i in range(1,3):\n",
    "    for j in range(1,3):\n",
    "        print(i,j)\n"
   ]
  },
  {
   "cell_type": "code",
   "execution_count": 5,
   "metadata": {},
   "outputs": [
    {
     "name": "stdout",
     "output_type": "stream",
     "text": [
      "\n",
      "Basic while loop\n",
      "0\n",
      "1\n",
      "2\n",
      "3\n",
      "4\n"
     ]
    }
   ],
   "source": [
    "# While loops: continue to run until condition becoemes false, useful whenever you don't know the number of iterations\n",
    "\n",
    "c=0\n",
    "\n",
    "print(\"\\nBasic while loop\")  \n",
    "while c<5:\n",
    "    print(c)\n",
    "    c=c+1\n"
   ]
  },
  {
   "cell_type": "code",
   "execution_count": 13,
   "metadata": {},
   "outputs": [
    {
     "name": "stdout",
     "output_type": "stream",
     "text": [
      "\n",
      "Break while loop\n",
      "0\n",
      "1\n",
      "2\n",
      "3\n",
      "\n",
      "Continue loop\n",
      "1\n",
      "2\n",
      "4\n",
      "5\n",
      "\n",
      "Pass statement\n",
      "1\n",
      "2\n",
      "3\n",
      "4\n",
      "5\n"
     ]
    }
   ],
   "source": [
    "# Control statements in loop\n",
    "\n",
    "# Break: it terminates the loop\n",
    "\n",
    "c=0\n",
    "print(\"\\nBreak while loop\")  \n",
    "while c<5:\n",
    "    print(c)\n",
    "    if (c ==3):\n",
    "        break; # The first control statement\n",
    "    c=c+1\n",
    "    \n",
    "    \n",
    "# Continue: this statement is used when you don't want the rest of code to run but you want to continue with \n",
    "# the next iteration\n",
    "\n",
    "c=0\n",
    "print(\"\\nContinue loop\")  \n",
    "while c<5:\n",
    "    c=c+1\n",
    "    if (c==3):\n",
    "        continue;# The second control statement\n",
    "    print(c)\n",
    "\n",
    "        \n",
    "        \n",
    "    \n",
    "# Pass: this statement doesn't do anything, just a filler statement\n",
    "\n",
    "c=0\n",
    "print(\"\\nPass statement\")  \n",
    "while c<5:\n",
    "    c=c+1\n",
    "    if (c==3):\n",
    "        pass # The third control statement\n",
    "    print(c)        \n"
   ]
  },
  {
   "cell_type": "code",
   "execution_count": 25,
   "metadata": {},
   "outputs": [
    {
     "name": "stdout",
     "output_type": "stream",
     "text": [
      "There is something wrong with your code, debug it\n"
     ]
    }
   ],
   "source": [
    "# Exception handling using try except\n",
    "\n",
    "# If code in your try block doesn't work it executes the except case\n",
    "\n",
    "try:\n",
    "    if (age1 > 23):  # age 1 not defined, does not catch syntax errors\n",
    "        print(\"age is \", age)\n",
    "except:\n",
    "    print(\"There is something wrong with your code, debug it\")\n",
    "    "
   ]
  }
 ],
 "metadata": {
  "kernelspec": {
   "display_name": "Python 3",
   "language": "python",
   "name": "python3"
  },
  "language_info": {
   "codemirror_mode": {
    "name": "ipython",
    "version": 3
   },
   "file_extension": ".py",
   "mimetype": "text/x-python",
   "name": "python",
   "nbconvert_exporter": "python",
   "pygments_lexer": "ipython3",
   "version": "3.7.4"
  }
 },
 "nbformat": 4,
 "nbformat_minor": 2
}

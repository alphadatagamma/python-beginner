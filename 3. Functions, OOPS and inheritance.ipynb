{
 "cells": [
  {
   "cell_type": "code",
   "execution_count": 3,
   "metadata": {},
   "outputs": [
    {
     "name": "stdout",
     "output_type": "stream",
     "text": [
      "Hello World\n",
      "Value of the function:  None\n"
     ]
    }
   ],
   "source": [
    "# Topics covered:  functions, object oriented programming and inheritance\n",
    "\n",
    "# Most basic function ever\n",
    "\n",
    "# to create write def <function name> (): then it is follower by body of the function\n",
    "\n",
    "def helloworld():    \n",
    "    print(\"Hello World\")\n",
    "\n",
    "    \n",
    "helloworld() #  calling a function without parameters\n"
   ]
  },
  {
   "cell_type": "code",
   "execution_count": 7,
   "metadata": {},
   "outputs": [
    {
     "name": "stdout",
     "output_type": "stream",
     "text": [
      "Hi Abhishek !, how are you?\n",
      "22\n"
     ]
    }
   ],
   "source": [
    "# A slightly complex function with parameters\n",
    "\n",
    "def greeting(name):\n",
    "    print(\"Hi\", name,\"!, how are you?\")\n",
    "    \n",
    "greeting(\"Abhishek\")# calling a function with parameters\n",
    "\n",
    "# Another example\n",
    "\n",
    "def add(a,b):\n",
    "    print(a+b)\n",
    "    \n",
    "add(10,12)"
   ]
  },
  {
   "cell_type": "code",
   "execution_count": 10,
   "metadata": {},
   "outputs": [
    {
     "name": "stdout",
     "output_type": "stream",
     "text": [
      "22\n"
     ]
    }
   ],
   "source": [
    "# A function which takes in parameters and returns a value\n",
    "\n",
    "def add(a,b):\n",
    "    return(a+b)\n",
    "    \n",
    "c = add(10,12)\n",
    "\n",
    "print(c)"
   ]
  },
  {
   "cell_type": "code",
   "execution_count": 11,
   "metadata": {},
   "outputs": [
    {
     "name": "stdout",
     "output_type": "stream",
     "text": [
      "22\n"
     ]
    }
   ],
   "source": [
    "# What do you think the function will do?\n",
    "\n",
    "def add(a,b):\n",
    "    return(a+b)\n",
    "    print(\"Hello\")\n",
    "    \n",
    "c = add(10,12)\n",
    "\n",
    "print(c)\n",
    "\n",
    "# The function only returns a+b and does not print hello because as soon as it encounters a return statement, \n",
    "# it does not execute anythng further"
   ]
  },
  {
   "cell_type": "code",
   "execution_count": 1,
   "metadata": {},
   "outputs": [
    {
     "name": "stdout",
     "output_type": "stream",
     "text": [
      "23\n",
      "False\n",
      "['__add__', '__class__', '__contains__', '__delattr__', '__dir__', '__doc__', '__eq__', '__format__', '__ge__', '__getattribute__', '__getitem__', '__getnewargs__', '__gt__', '__hash__', '__init__', '__init_subclass__', '__iter__', '__le__', '__len__', '__lt__', '__mod__', '__mul__', '__ne__', '__new__', '__reduce__', '__reduce_ex__', '__repr__', '__rmod__', '__rmul__', '__setattr__', '__sizeof__', '__str__', '__subclasshook__', 'capitalize', 'casefold', 'center', 'count', 'encode', 'endswith', 'expandtabs', 'find', 'format', 'format_map', 'index', 'isalnum', 'isalpha', 'isascii', 'isdecimal', 'isdigit', 'isidentifier', 'islower', 'isnumeric', 'isprintable', 'isspace', 'istitle', 'isupper', 'join', 'ljust', 'lower', 'lstrip', 'maketrans', 'partition', 'replace', 'rfind', 'rindex', 'rjust', 'rpartition', 'rsplit', 'rstrip', 'split', 'splitlines', 'startswith', 'strip', 'swapcase', 'title', 'translate', 'upper', 'zfill']\n",
      "Help on built-in function upper:\n",
      "\n",
      "upper() method of builtins.str instance\n",
      "    Return a copy of the string converted to uppercase.\n",
      "\n",
      "Help on built-in function splitlines:\n",
      "\n",
      "splitlines(keepends=False) method of builtins.str instance\n",
      "    Return a list of the lines in the string, breaking at line boundaries.\n",
      "    \n",
      "    Line breaks are not included in the resulting list unless keepends is given and\n",
      "    true.\n",
      "\n",
      "Use case for eval function\n",
      "\n",
      "\n",
      "Use case for exec function\n",
      "This is the second line for exec function\n"
     ]
    }
   ],
   "source": [
    "# Inbuilt function in python\n",
    "# Boolean fuction returns false if 0, else true\n",
    "# the absolute function gives you the absolute value of a number\n",
    "print(abs(-23)) # absolute value\n",
    "\n",
    "# The b\n",
    "print(bool(0)) # Boolean\n",
    "\n",
    "# Very useful function as it tells you what all can you use with a particula datatype\n",
    "\n",
    "sent = \"My Name is Abhishek\"\n",
    "\n",
    "print(dir(\"sent\")) \n",
    "\n",
    "# help function gives you what the function does\n",
    "\n",
    "help(sent.upper)\n",
    "help(sent.splitlines)\n",
    "\n",
    "\n",
    "# Important function: eval()\n",
    "\n",
    "# Takes your string and runs it in form of python code\n",
    "\n",
    "sent = 'print(\"Use case for eval function\")'\n",
    "\n",
    "eval(sent)\n",
    "\n",
    "# Important function: exec()\n",
    "\n",
    "# Takes your string and runs it in form of python code. Usually used for multiline code\n",
    "\n",
    "print(\"\\n\")\n",
    "\n",
    "sent = 'print(\"Use case for exec function\"),print(\"This is the second line for exec function\")'\n",
    "\n",
    "exec(sent)\n"
   ]
  },
  {
   "cell_type": "code",
   "execution_count": 53,
   "metadata": {},
   "outputs": [
    {
     "name": "stdout",
     "output_type": "stream",
     "text": [
      "4 <class 'int'>\n",
      "4 <class 'str'>\n",
      "4 <class 'int'>\n",
      "4.0 <class 'float'>\n",
      "True\n",
      "False\n"
     ]
    }
   ],
   "source": [
    "# Basic type conversion\n",
    "\n",
    "a = 4\n",
    "print(a,type(a))\n",
    "\n",
    "a = str(a)\n",
    "print(a,type(a))\n",
    "\n",
    "a = int(a)\n",
    "print(a,type(a))\n",
    "\n",
    "a = float(a)\n",
    "print(a,type(a))\n",
    "\n",
    "\n",
    "print(bool(a))\n",
    "\n",
    "print(bool(0))"
   ]
  },
  {
   "cell_type": "code",
   "execution_count": 68,
   "metadata": {},
   "outputs": [
    {
     "name": "stdout",
     "output_type": "stream",
     "text": [
      "5\n",
      "1\n",
      "20\n",
      "2\n"
     ]
    }
   ],
   "source": [
    "# OOP : Object Oriented Programming\n",
    "# Class is a collection of objects of similar type under it\n",
    "# Object of a class is an instance of a class\n",
    "\n",
    "# creating a class mathemetics \n",
    "class mathematics:\n",
    "    def add(self):\n",
    "        print(2+3)\n",
    "    def subtra(self):\n",
    "        print(3-2)\n",
    "        \n",
    "obj  =  mathematics()\n",
    "\n",
    "obj.add()\n",
    "obj.subtra()\n",
    "\n",
    "# Question: what is self?\n",
    "\n",
    "# The __init__ function of a class allows us to create an object of the class with specific values\n",
    "\n",
    "# creating a class mathemetics \n",
    "class mathematics:\n",
    "    def __init__(self, a,b): # creating an object with properties, which can be used by all the functions of class\n",
    "        self.a = a\n",
    "        self.b = b\n",
    "        \n",
    "    def add(self): __\n",
    "        print(self.a+self.b)\n",
    "    def subtra(self):\n",
    "        print(self.b-self.a)\n",
    "        \n",
    "        \n",
    "num = mathematics(9,11)\n",
    "\n",
    "num.add()\n",
    "num.subtra()\n",
    "\n",
    "\n"
   ]
  },
  {
   "cell_type": "code",
   "execution_count": 8,
   "metadata": {},
   "outputs": [
    {
     "name": "stdout",
     "output_type": "stream",
     "text": [
      "This is the Parent class\n",
      "This is the Parent func\n",
      "This is the Child class\n",
      "This is the Child func\n",
      "This is the Parent func\n"
     ]
    }
   ],
   "source": [
    "# Inheritance\n",
    "# A child class inherits all characteristics/ functions of the parent class\n",
    "\n",
    "class Parent:\n",
    "    def __init__(self):\n",
    "        print(\"This is the Parent class\")\n",
    "    def parentfunc(self):\n",
    "        print(\"This is the Parent func\")\n",
    "        \n",
    "        \n",
    "class Child(Parent):\n",
    "    def __init__(self):\n",
    "        print(\"This is the Child class\")\n",
    "    def childfunc(self):\n",
    "        print(\"This is the Child func\")\n",
    "        \n",
    "p = Parent()\n",
    "p.parentfunc()\n",
    "\n",
    "c =  Child()\n",
    "c.childfunc()\n",
    "\n",
    "# Now here is the best part, you can call parentfunc() using a child object\n",
    "c.parentfunc()\n"
   ]
  }
 ],
 "metadata": {
  "kernelspec": {
   "display_name": "Python 3",
   "language": "python",
   "name": "python3"
  },
  "language_info": {
   "codemirror_mode": {
    "name": "ipython",
    "version": 3
   },
   "file_extension": ".py",
   "mimetype": "text/x-python",
   "name": "python",
   "nbconvert_exporter": "python",
   "pygments_lexer": "ipython3",
   "version": "3.7.4"
  }
 },
 "nbformat": 4,
 "nbformat_minor": 2
}

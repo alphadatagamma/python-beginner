{
 "cells": [
  {
   "cell_type": "code",
   "execution_count": null,
   "metadata": {},
   "outputs": [],
   "source": [
    "# Topics covered: variables, assignment, printing, arithmetic, relational and logical operators, \n",
    "# basic strings, placeholders in strings, lists, dictionary and tuples"
   ]
  },
  {
   "cell_type": "code",
   "execution_count": null,
   "metadata": {},
   "outputs": [],
   "source": [
    "''' Starting with python in Jupyter\n",
    "  \"#\" hash or pound whatever you call it used to add comments in python \n",
    " or use  as done for this block\n",
    " Use Escape+b keys to add a new line (for jupyter users only)\n",
    " '''"
   ]
  },
  {
   "cell_type": "code",
   "execution_count": null,
   "metadata": {},
   "outputs": [],
   "source": [
    "# Bravo, you added a new line"
   ]
  },
  {
   "cell_type": "code",
   "execution_count": 1,
   "metadata": {},
   "outputs": [
    {
     "name": "stdout",
     "output_type": "stream",
     "text": [
      "Hello World\n"
     ]
    }
   ],
   "source": [
    "# Now do the first thing everybody does when they start learning a new programming language\n",
    "print(\"Hello World\")"
   ]
  },
  {
   "cell_type": "code",
   "execution_count": 4,
   "metadata": {},
   "outputs": [
    {
     "name": "stdout",
     "output_type": "stream",
     "text": [
      "Hello world! I am gonna be awesome in Python.\n"
     ]
    }
   ],
   "source": [
    "# Change it a little - assigning the message to a variable called message \n",
    "message = \"Hello world! I am gonna be awesome in Python.\"\n",
    "print(message)"
   ]
  },
  {
   "cell_type": "code",
   "execution_count": 9,
   "metadata": {},
   "outputs": [
    {
     "name": "stdout",
     "output_type": "stream",
     "text": [
      "2 \n",
      " 3.3 \n",
      " -3.4 \n",
      " Python is great \n",
      " 03-02-2020\n"
     ]
    }
   ],
   "source": [
    "# Basic assignment\n",
    "\n",
    "a = 2\n",
    "b = 3.3\n",
    "c = -3.4\n",
    "d = \"Python is great\"\n",
    "e = \"03-02-2020\"\n",
    "\n",
    "print (a,b,c,d,e)\n",
    "\n",
    "# Now hash the above print statement and unhash the below print to display the message in different lines, and in case \n",
    "# you were wondering '\\n' is how you add a new line in print statement in python.\n",
    "\n",
    "#print(a,'\\n',b,'\\n',c,'\\n',d,'\\n',e)"
   ]
  },
  {
   "cell_type": "code",
   "execution_count": 14,
   "metadata": {},
   "outputs": [],
   "source": [
    "# Now lets talk about variables and assignment in detail\n",
    "# Variables are basically memory locations to store values\n",
    "# \"=\" is the assignment operator\n",
    "# Uncomment lines and run to see their result \n",
    "\n",
    "myname  = \"abhi\"\n",
    "myage = 21\n",
    "\n",
    "# Multiple assignment in one line - order is important\n",
    "\n",
    "myname, age = \"ritz\", 29\n",
    "\n",
    "#myname, age\n",
    "\n",
    "# Also if you want to assign the same value to multiple variables\n",
    "\n",
    "myage = yourage =  everyoneage = 21\n",
    "\n",
    "# myage\n",
    "# yourage\n",
    "# everyoneage"
   ]
  },
  {
   "cell_type": "code",
   "execution_count": 38,
   "metadata": {},
   "outputs": [
    {
     "name": "stdout",
     "output_type": "stream",
     "text": [
      "a+b:\n",
      "16\n",
      "b-a:\n",
      "8\n",
      "a*b:\n",
      "48\n",
      "b/a:\n",
      "3.0\n",
      "c%a:\n",
      "1\n",
      "a**d:\n",
      "16\n"
     ]
    }
   ],
   "source": [
    "# Basic Arithmetic operators\n",
    "\n",
    "a = 4\n",
    "b = 12\n",
    "c = 13\n",
    "d = 2\n",
    "\n",
    "# addition\n",
    "print(\"a+b:\")\n",
    "print(a+b) \n",
    "\n",
    "# substraction\n",
    "print(\"b-a:\") \n",
    "print(b-a) \n",
    "\n",
    "# multiplication\n",
    "print(\"a*b:\") \n",
    "print(a*b) \n",
    "\n",
    "# division\n",
    "print(\"b/a:\")\n",
    "print(b/a)\n",
    "\n",
    "# modulus\n",
    "print(\"c%a:\")\n",
    "print(c%a)\n",
    "\n",
    "# exponential\n",
    "print(\"a**d:\") \n",
    "print(a**d) \n"
   ]
  },
  {
   "cell_type": "code",
   "execution_count": 9,
   "metadata": {},
   "outputs": [
    {
     "name": "stdout",
     "output_type": "stream",
     "text": [
      "equality:\n",
      "e==f\n",
      "True\n",
      "e==g\n",
      "False\n",
      "\n",
      "greater than:\n",
      "e>f\n",
      "False\n",
      "e>g\n",
      "True\n",
      "e>=f\n",
      "True\n",
      "\n",
      "less than:\n",
      "g<f\n",
      "True\n",
      "e<g\n",
      "False\n",
      "e<=f\n",
      "True\n"
     ]
    }
   ],
   "source": [
    "# Basic relational operators\n",
    "\n",
    "e = 4\n",
    "f = 4\n",
    "g = 2\n",
    "\n",
    "# Relational : provides true or false\n",
    "#equal, not equal, greater than, less than\n",
    "\n",
    "# equality\n",
    "print(\"equality:\")\n",
    "print(\"e==f\") \n",
    "print(e==f) \n",
    "print(\"e==g\") \n",
    "print(e==g) \n",
    "\n",
    "# greater than\n",
    "print(\"\\ngreater than:\")\n",
    "print(\"e>f\") \n",
    "print(e>f) \n",
    "print(\"e>g\") \n",
    "print(e>g) \n",
    "print(\"e>=f\") \n",
    "print(e>=f) \n",
    "\n",
    "\n",
    "# less than\n",
    "print(\"\\nless than:\")\n",
    "print(\"g<f\") \n",
    "print(g<f) \n",
    "print(\"e<g\") \n",
    "print(e<g) \n",
    "print(\"e<=f\") \n",
    "print(e<=f) \n",
    "\n"
   ]
  },
  {
   "cell_type": "code",
   "execution_count": 18,
   "metadata": {},
   "outputs": [
    {
     "name": "stdout",
     "output_type": "stream",
     "text": [
      "True\n",
      "False\n",
      "True\n",
      "True\n",
      "False\n"
     ]
    }
   ],
   "source": [
    "# Basic logical operators and or not\n",
    "'''\n",
    "AND operator – It returns TRUE if both the operands (right side and left side) are true\n",
    "OR operator- It returns TRUE if either of the operand (right side or left side) is true\n",
    "NOT operator- returns TRUE if operand is false\n",
    "'''\n",
    "a = 2\n",
    "b = 2\n",
    "c = 3\n",
    "\n",
    "print((a==b) and (a<3)) # returns true\n",
    "print((a==b) and (a>3)) # returns false\n",
    "\n",
    "print((a==b) or (a>3)) # returns true\n",
    "\n",
    "\n",
    "print(a==b) # returns true\n",
    "print(not(a==b)) # returns false\n",
    "\n",
    "\n"
   ]
  },
  {
   "cell_type": "code",
   "execution_count": 11,
   "metadata": {},
   "outputs": [
    {
     "name": "stdout",
     "output_type": "stream",
     "text": [
      "My name isAbhishek\n",
      "AbhishekAbhishek\n"
     ]
    }
   ],
   "source": [
    "# Basic string operations\n",
    "# Single quotes or double?\n",
    "# Addition and multiplication works(concatenation and repeating)\n",
    "\n",
    "a = \"My name is\"\n",
    "b = \"Abhishek\"\n",
    "\n",
    "print(a+b)\n",
    "a+\" \"+b\n",
    "\n",
    "print(b*2)"
   ]
  },
  {
   "cell_type": "code",
   "execution_count": 48,
   "metadata": {},
   "outputs": [
    {
     "data": {
      "text/plain": [
       "'name is'"
      ]
     },
     "execution_count": 48,
     "metadata": {},
     "output_type": "execute_result"
    }
   ],
   "source": [
    "# Every character of a string gets an index which start from zero\n",
    "\n",
    "a[3] # splicing the string\n",
    "a[0:7] # multiple characters , python doesnt count the end position\n",
    "a[:7] # from start\n",
    "a[3:] # till end"
   ]
  },
  {
   "cell_type": "code",
   "execution_count": 56,
   "metadata": {},
   "outputs": [
    {
     "data": {
      "text/plain": [
       "'Abhishek is 21 years old'"
      ]
     },
     "execution_count": 56,
     "metadata": {},
     "output_type": "execute_result"
    }
   ],
   "source": [
    "# Placeholders in strings\n",
    "\n",
    "# String placeholders\n",
    "name = \"Ritika\"\n",
    "sent = \"%s is 15 years old\"\n",
    "sent%\"Abhishek\"\n",
    "sent%name\n",
    "\n",
    "sent = \"%s %s is the POTUS\"\n",
    "sent%(\"barack\",\"obama\")\n",
    "\n",
    "# Integer plcaeholders\n",
    "\n",
    "sent = \"%s is %d years old\"\n",
    "sent%(\"Abhishek\", 21)\n"
   ]
  },
  {
   "cell_type": "code",
   "execution_count": 88,
   "metadata": {},
   "outputs": [
    {
     "name": "stdout",
     "output_type": "stream",
     "text": [
      "['apple', 'banana', 'orange', 'kiwi']\n",
      "['apple', 'banana', 'orange', 'kiwi', 'blueberry']\n",
      "['guava', 'banana', 'orange', 'kiwi', 'blueberry']\n",
      "['guava', 'banana', 'kiwi', 'blueberry']\n",
      "4\n",
      "['tomato', 'potato']\n",
      "['guava', 'banana', 'kiwi', 'blueberry', 'tomato', 'potato']\n",
      "['tomato', 'potato', 'tomato', 'potato', 'tomato', 'potato']\n",
      "89\n",
      "1\n"
     ]
    }
   ],
   "source": [
    "# Introduction to lists: Python's first data str: comma separated values that allows to access any value based on index \n",
    "# which starts from 0\n",
    "# Also uses square brackets\n",
    "\n",
    "fruits = ['apple', 'banana', 'orange', 'kiwi']\n",
    "fruits[0]\n",
    "fruits[2]\n",
    "fruits[0:2] # python doesnt count the end position\n",
    "\n",
    "print(fruits)\n",
    "\n",
    "# adding to  a list\n",
    "\n",
    "#fruits[4] = \"blueberry\" # doesnt work\n",
    "\n",
    "fruits.append(\"blueberry\") # look how functions always take values inside normal curved braces\n",
    "\n",
    "print(fruits)\n",
    "\n",
    "# updating a list\n",
    "\n",
    "fruits[0] = \"guava\"\n",
    "print(fruits)\n",
    "\n",
    "# removing from a list\n",
    "\n",
    "del fruits[2]\n",
    "print(fruits)\n",
    "\n",
    "# length of list\n",
    "print(len(fruits))\n",
    "\n",
    "veg = [\"tomato\", \"potato\"] # another list\n",
    "print(veg)\n",
    "\n",
    "# adding two lists\n",
    "\n",
    "print(fruits+veg)\n",
    "\n",
    "# multiply lists\n",
    "\n",
    "print(veg*3)\n",
    "\n",
    "\n",
    "# Numeric opeators on lists\n",
    "\n",
    "numlist = [2,3,4,5,1,89]\n",
    "print(max(numlist))\n",
    "print(min(numlist))\n"
   ]
  },
  {
   "cell_type": "code",
   "execution_count": 113,
   "metadata": {},
   "outputs": [
    {
     "name": "stdout",
     "output_type": "stream",
     "text": [
      "{'abhi': 21, 'ritika': 28, 'yash': 27}\n",
      "27\n",
      "{'abhi': 21, 'ritika': 28, 'yash': 21}\n",
      "2\n",
      "{'abhi': 21, 'ritika': 28, 'gordan': 22}\n",
      "27\n"
     ]
    }
   ],
   "source": [
    "# Dictionaries:   a very powerful data structure in python : legend of a map: key and value\n",
    "# Dictionary created using curly brackets\n",
    "\n",
    "student = {\"abhi\":21,\"ritika\":28, \"yash\":27}\n",
    "\n",
    "print(student)\n",
    "\n",
    "print(student[\"yash\"])\n",
    "\n",
    "student[\"yash\"] = 21\n",
    "print(student)\n",
    "\n",
    "\n",
    "del student[\"yash\"]\n",
    "student\n",
    "\n",
    "print(len(student))\n",
    "\n",
    "student.update({\"gordan\":22})\n",
    "print(student)\n",
    "\n",
    "# Dont repeat keys in dictionaries\n",
    "# In case of ambiguity uses the last key\n",
    "\n",
    "student = {\"abhi\":21,\"ritika\":28, \"abhi\":27}\n",
    "\n",
    "print(student[\"abhi\"])\n"
   ]
  },
  {
   "cell_type": "code",
   "execution_count": 125,
   "metadata": {},
   "outputs": [
    {
     "name": "stdout",
     "output_type": "stream",
     "text": [
      "('oranges', 'apples', 'bananas')\n",
      "oranges\n",
      "('oranges', 'apples')\n",
      "('oranges', 'apples', 'bananas', 2, 3)\n",
      "5\n",
      "('oranges', 'apples', 'bananas', 2, 3, 'oranges', 'apples', 'bananas', 2, 3)\n"
     ]
    },
    {
     "ename": "NameError",
     "evalue": "name 'tup' is not defined",
     "output_type": "error",
     "traceback": [
      "\u001b[1;31m---------------------------------------------------------------------------\u001b[0m",
      "\u001b[1;31mNameError\u001b[0m                                 Traceback (most recent call last)",
      "\u001b[1;32m<ipython-input-125-2ebb6acaed01>\u001b[0m in \u001b[0;36m<module>\u001b[1;34m\u001b[0m\n\u001b[0;32m     26\u001b[0m \u001b[1;33m\u001b[0m\u001b[0m\n\u001b[0;32m     27\u001b[0m \u001b[1;32mdel\u001b[0m \u001b[0mtup\u001b[0m\u001b[1;33m\u001b[0m\u001b[1;33m\u001b[0m\u001b[0m\n\u001b[1;32m---> 28\u001b[1;33m \u001b[0mprint\u001b[0m\u001b[1;33m(\u001b[0m\u001b[0mtup\u001b[0m\u001b[1;33m)\u001b[0m \u001b[1;31m# gives and error\u001b[0m\u001b[1;33m\u001b[0m\u001b[1;33m\u001b[0m\u001b[0m\n\u001b[0m",
      "\u001b[1;31mNameError\u001b[0m: name 'tup' is not defined"
     ]
    }
   ],
   "source": [
    "# Tuple has same core concept as dictionary but they are immutable, cannot be updated, deleted from\n",
    "# Normal rount parenthesis\n",
    "# can just access the list\n",
    "\n",
    "tup = (\"oranges\",\"apples\", \"bananas\")\n",
    "\n",
    "print(tup)\n",
    "print(tup[0])\n",
    "print(tup[0:2])\n",
    "\n",
    "# can add tuples\n",
    "\n",
    "tup2 = (2,3)\n",
    "\n",
    "tup3 = tup+tup2\n",
    "print(tup3)\n",
    "\n",
    "# length of tuple\n",
    "print(len(tup3))\n",
    "\n",
    "\n",
    "# Multiplying to repeat tuples\n",
    "\n",
    "print(tup3*2)\n",
    "\n",
    "\n",
    "del tup\n",
    "print(tup) # gives and error"
   ]
  }
 ],
 "metadata": {
  "kernelspec": {
   "display_name": "Python 3",
   "language": "python",
   "name": "python3"
  },
  "language_info": {
   "codemirror_mode": {
    "name": "ipython",
    "version": 3
   },
   "file_extension": ".py",
   "mimetype": "text/x-python",
   "name": "python",
   "nbconvert_exporter": "python",
   "pygments_lexer": "ipython3",
   "version": "3.7.4"
  }
 },
 "nbformat": 4,
 "nbformat_minor": 2
}
